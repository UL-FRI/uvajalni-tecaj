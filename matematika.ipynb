{
 "cells": [
  {
   "cell_type": "markdown",
   "metadata": {},
   "source": [
    "# Osnove\n",
    "Podane so točke $A(1, 2)$, $B(5, 2)$ in $C(7, 4)$. Zapiši vektorje $\\vec{AB}$, $\\vec{BC}$ in $\\vec{AC}$."
   ]
  },
  {
   "cell_type": "code",
   "execution_count": 1,
   "metadata": {},
   "outputs": [],
   "source": [
    "A = (1, 2)\n",
    "B = (5, 2)\n",
    "C = (7, 4)"
   ]
  },
  {
   "cell_type": "code",
   "execution_count": 2,
   "metadata": {},
   "outputs": [
    {
     "data": {
      "image/png": "[encoded data removed]",
      "text/plain": [
       "<Figure size 432x288 with 1 Axes>"
      ]
     },
     "metadata": {
      "needs_background": "light"
     },
     "output_type": "display_data"
    }
   ],
   "source": [
    "import numpy\n",
    "import matplotlib.pyplot as plt\n",
    "%matplotlib inline\n",
    "\n",
    "\n",
    "plt.plot((1, 5, 7), (2, 2, 4), 'ro')\n",
    "plt.annotate(xy=[1,1.5], text=\"A\", ha=\"center\")\n",
    "plt.annotate(xy=[5,1.5], text=\"B\", ha=\"center\")\n",
    "plt.annotate(xy=[7,3.5], text=\"C\", ha=\"center\")\n",
    "plt.axis([0, 8, 0, 5])\n",
    "\n",
    "plt.arrow(0, 0, *A, head_width=0.2, head_length=0.3, length_includes_head=True)\n",
    "plt.arrow(0, 0, *B, head_width=0.2, head_length=0.3, length_includes_head=True)\n",
    "plt.arrow(0, 0, *C, head_width=0.2, head_length=0.3, length_includes_head=True)\n",
    "\n",
    "plt.annotate(xy=[7/2, 4/2+0.3], text=\"rC\")\n",
    "plt.annotate(xy=[5/2, 2/2-0.3], text=\"rB\")\n",
    "plt.annotate(xy=[1/2-0.2, 2/2+0.25], text=\"rA\")\n",
    "\n",
    "\n",
    "# plt.arrow(*A, *AB, head_width=0.2, head_length=0.3, length_includes_head=True)\n",
    "# plt.arrow(*B, *BC, head_width=0.2, head_length=0.3, length_includes_head=True)\n",
    "# plt.arrow(*A, *AC, head_width=0.2, head_length=0.3, length_includes_head=True)\n",
    "\n",
    "\n",
    "plt.show()\n"
   ]
  },
  {
   "cell_type": "code",
   "execution_count": 3,
   "metadata": {},
   "outputs": [
    {
     "name": "stdout",
     "output_type": "stream",
     "text": [
      "AB: [4 0], BC: [2 2], AC: [6 2]\n"
     ]
    }
   ],
   "source": [
    "def krajevni_vektor(tocka):\n",
    "    return numpy.array(tocka)\n",
    "\n",
    "rA = krajevni_vektor(A)\n",
    "rB = krajevni_vektor(B)\n",
    "rC = krajevni_vektor(C)\n",
    "\n",
    "AB = rB - rA\n",
    "BC = rC - rB\n",
    "AC = rC - rA\n",
    "\n",
    "print(f\"AB: {AB}, BC: {BC}, AC: {AC}\")"
   ]
  },
  {
   "cell_type": "markdown",
   "metadata": {},
   "source": [
    " "
   ]
  },
  {
   "cell_type": "markdown",
   "metadata": {},
   "source": [
    "Izračunaj vsoto $\\vec{AB} + 2\\vec{BC} - \\vec{AC}$."
   ]
  },
  {
   "cell_type": "code",
   "execution_count": 4,
   "metadata": {},
   "outputs": [
    {
     "name": "stdout",
     "output_type": "stream",
     "text": [
      "AB + 2*BC - AC = [2 2]\n"
     ]
    }
   ],
   "source": [
    "print(f\"AB + 2*BC - AC = {AB + 2*BC - AC}\")"
   ]
  },
  {
   "cell_type": "markdown",
   "metadata": {},
   "source": [
    " "
   ]
  },
  {
   "cell_type": "markdown",
   "metadata": {},
   "source": [
    "Določi točko $D$ tako, da bo štirikotnik $ABCD$ paralelogram."
   ]
  },
  {
   "cell_type": "code",
   "execution_count": 5,
   "metadata": {},
   "outputs": [
    {
     "name": "stdout",
     "output_type": "stream",
     "text": [
      "D(3, 4)\n"
     ]
    }
   ],
   "source": [
    "rD = rA + BC\n",
    "D = tuple(rD)\n",
    "print(f\"D{D}\")"
   ]
  },
  {
   "cell_type": "markdown",
   "metadata": {},
   "source": [
    " "
   ]
  },
  {
   "cell_type": "markdown",
   "metadata": {},
   "source": [
    "Določi dolžino vektorjev $\\vec{AB}$ in $\\vec{AC}$."
   ]
  },
  {
   "cell_type": "code",
   "execution_count": 6,
   "metadata": {},
   "outputs": [
    {
     "name": "stdout",
     "output_type": "stream",
     "text": [
      "Dolžina vektorja AB: 4.0\n",
      "Dolžina vektorja AC: 6.324555320336759\n"
     ]
    }
   ],
   "source": [
    "from numpy.linalg import norm\n",
    "print(f\"Dolžina vektorja AB: {norm(AB)}\")\n",
    "print(f\"Dolžina vektorja AC: {norm(AC)}\")"
   ]
  },
  {
   "cell_type": "markdown",
   "metadata": {},
   "source": [
    "# Izražave"
   ]
  },
  {
   "cell_type": "markdown",
   "metadata": {},
   "source": [
    "V pravokotniku $ABCD$ točki $U$ in $V$ delita stranico $DC$ na tri skladne dele. Označimo $\\vec{a} = \\vec{AB}$ in $\\vec{b} = \\vec{BC}$. Z njima izrazi vektorje \n",
    "$\\vec{AC}, \\vec{AU}, \\vec{VU}$ in $\\vec{VA}$."
   ]
  },
  {
   "cell_type": "code",
   "execution_count": 7,
   "metadata": {},
   "outputs": [
    {
     "data": {
      "image/png": "[encoded data removed]",
      "text/plain": [
       "<Figure size 432x288 with 1 Axes>"
      ]
     },
     "metadata": {
      "needs_background": "light"
     },
     "output_type": "display_data"
    }
   ],
   "source": [
    "import matplotlib.pyplot as plt\n",
    "A = (1, 1)\n",
    "B = (5, 1)\n",
    "C = (5, 3)\n",
    "D = (1, 3)\n",
    "\n",
    "rA, rB, rC, rD = [krajevni_vektor(v) for v in [A, B, C, D]]\n",
    "\n",
    "DC = rC - rD\n",
    "rU = rD + 1/3 * DC\n",
    "rV = rD + 2/3 * DC\n",
    "\n",
    "U = tuple(rU)\n",
    "V = tuple(rV)\n",
    "\n",
    "plt.plot(*zip(A, B, C, D), 'ro')\n",
    "plt.plot(*zip(A, B, C, D, A))\n",
    "plt.plot(*zip(U, V), 'ro')\n",
    "\n",
    "offset_up = numpy.array((0, 0.3))\n",
    "offset_down = numpy.array((0, -0.3))\n",
    "offset_right = numpy.array((0.2, 0))\n",
    "\n",
    "annotations = [{\"xy\": rA + offset_down, \"text\": \"A\"},\n",
    "               {\"xy\": rB + offset_down, \"text\": \"B\"},\n",
    "               {\"xy\": rC + offset_up, \"text\": \"C\"},\n",
    "               {\"xy\": rD + offset_up, \"text\": \"D\"},\n",
    "               {\"xy\": rU + offset_up, \"text\": \"U\"},\n",
    "               {\"xy\": rV + offset_up, \"text\": \"V\"},\n",
    "               {\"xy\": (rB+rA)/2 + offset_down, \"text\": \"a\"},\n",
    "              {\"xy\": (rC+rB)/2 + offset_right, \"text\": \"b\"}]\n",
    "\n",
    "\n",
    "for annotation in annotations:\n",
    "    plt.annotate(**annotation, ha=\"center\")\n",
    "\n",
    "plt.arrow(*A, *(rB-rA), head_width=0.2, head_length=0.3, length_includes_head=True)\n",
    "plt.arrow(*B, *(rC-rB), head_width=0.2, head_length=0.3, length_includes_head=True)\n",
    "\n",
    "    \n",
    "plt.axis([0, 6, 0, 4])\n",
    "plt.show()\n"
   ]
  },
  {
   "cell_type": "code",
   "execution_count": 8,
   "metadata": {},
   "outputs": [
    {
     "name": "stdout",
     "output_type": "stream",
     "text": [
      "AC = a + b\n",
      "AU = b + 1/3 a\n",
      "VU = -1/3 a\n",
      "VA = -2/3 a - b\n"
     ]
    }
   ],
   "source": [
    "print(\"AC = a + b\")\n",
    "print(\"AU = b + 1/3 a\")\n",
    "print(\"VU = -1/3 a\")\n",
    "print(\"VA = -2/3 a - b\")\n"
   ]
  },
  {
   "cell_type": "markdown",
   "metadata": {},
   "source": [
    "# Izražave\n",
    "\n",
    "Podane so točke $A(0, 1)$, $B(4, 1)$, $C(6, 3)$ in $D(2, 3)$.\n",
    "\n",
    "Določi presečišče $S$ diagonal $AC$ in $BD$ v štirikotniku $ABCD$."
   ]
  },
  {
   "cell_type": "code",
   "execution_count": 9,
   "metadata": {},
   "outputs": [
    {
     "data": {
      "image/png": "[encoded data removed]",
      "text/plain": [
       "<Figure size 432x288 with 1 Axes>"
      ]
     },
     "metadata": {
      "needs_background": "light"
     },
     "output_type": "display_data"
    },
    {
     "name": "stdout",
     "output_type": "stream",
     "text": [
      "S: (3, 2)\n",
      "k: 1/2, l: 1/2\n"
     ]
    }
   ],
   "source": [
    "import matplotlib.pyplot as plt\n",
    "A = (0, 1)\n",
    "B = (4, 1)\n",
    "C = (6, 3)\n",
    "D = (2, 3)\n",
    "\n",
    "rA, rB, rC, rD = [krajevni_vektor(v) for v in [A, B, C, D]]\n",
    "\n",
    "AC = rC - rA\n",
    "BD = rD - rB\n",
    "\n",
    "plt.plot(*zip(A, B, C, D), 'ro')\n",
    "plt.plot(*zip(A, B, C, D, A))\n",
    "\n",
    "offset_up = numpy.array((0, 0.3))\n",
    "offset_down = numpy.array((0, -0.3))\n",
    "offset_right = numpy.array((0.2, 0))\n",
    "\n",
    "plt.arrow(*A, *AC, head_width=0.0, head_length=0.3, length_includes_head=True)\n",
    "plt.arrow(*B, *BD, head_width=0.0, head_length=0.3, length_includes_head=True)\n",
    "    \n",
    "import sympy\n",
    "from sympy import Matrix as M\n",
    "\n",
    "k, l = sympy.symbols(['k', 'l'])\n",
    "equation = sympy.Eq(M(rA) + k*M(AC), M(rB) + l*M(BD))\n",
    "solution = sympy.solve(equation, k, l)\n",
    "\n",
    "rS = rA + solution[k]*AC\n",
    "S = tuple(rS)\n",
    "\n",
    "plt.plot(*S, 'ro')\n",
    "\n",
    "annotations = [{\"xy\": rA + offset_down, \"text\": \"A\"},\n",
    "               {\"xy\": rB + offset_down, \"text\": \"B\"},\n",
    "               {\"xy\": rC + offset_up, \"text\": \"C\"},\n",
    "               {\"xy\": rD + offset_up, \"text\": \"D\"},\n",
    "               {\"xy\": rS + offset_up, \"text\": \"S\"},]\n",
    "\n",
    "for annotation in annotations:\n",
    "    plt.annotate(**annotation, ha=\"center\")\n",
    "\n",
    "plt.axis([-1, 7, 0, 4])\n",
    "plt.show()\n",
    "\n",
    "print(f\"S: {S}\")\n",
    "print(f\"k: {solution[k]}, l: {solution[l]}\")"
   ]
  },
  {
   "cell_type": "markdown",
   "metadata": {},
   "source": [
    " "
   ]
  },
  {
   "cell_type": "markdown",
   "metadata": {},
   "source": [
    "Določi razmerje med $BS$ in $DS$."
   ]
  },
  {
   "cell_type": "code",
   "execution_count": 10,
   "metadata": {},
   "outputs": [
    {
     "name": "stdout",
     "output_type": "stream",
     "text": [
      "l : (1-l) = 1\n"
     ]
    }
   ],
   "source": [
    "print(f\"l : (1-l) = {solution[l]/(1-solution[l])}\")"
   ]
  },
  {
   "cell_type": "markdown",
   "metadata": {},
   "source": [
    "# Kot med vektorjema\n",
    "Dana sta vektorja $\\vec{a} = (3, 1)$ in $\\vec{b} = (2, −1)$."
   ]
  },
  {
   "cell_type": "code",
   "execution_count": 11,
   "metadata": {},
   "outputs": [],
   "source": [
    "import numpy\n",
    "\n",
    "def vektor(koordinate):\n",
    "    return numpy.array(koordinate)\n",
    "\n",
    "a = vektor((3, 1))\n",
    "b = vektor((2, -1))"
   ]
  },
  {
   "cell_type": "markdown",
   "metadata": {},
   "source": [
    "Izračunaj dolžini obeh vektorjev."
   ]
  },
  {
   "cell_type": "code",
   "execution_count": 12,
   "metadata": {},
   "outputs": [
    {
     "name": "stdout",
     "output_type": "stream",
     "text": [
      "Dolžina vektorja a: 3.1622776601683795.\n",
      "Dolžina vektorja b: 2.23606797749979.\n"
     ]
    }
   ],
   "source": [
    "from numpy.linalg import norm\n",
    "\n",
    "print(f\"Dolžina vektorja a: {norm(a)}.\")\n",
    "print(f\"Dolžina vektorja b: {norm(b)}.\")"
   ]
  },
  {
   "cell_type": "markdown",
   "metadata": {},
   "source": [
    " "
   ]
  },
  {
   "cell_type": "markdown",
   "metadata": {},
   "source": [
    "Izračunaj skalarni produkt $\\vec{a}\\cdot\\vec{b}$."
   ]
  },
  {
   "cell_type": "code",
   "execution_count": 13,
   "metadata": {},
   "outputs": [
    {
     "name": "stdout",
     "output_type": "stream",
     "text": [
      "Skalarni product a in b: 5.\n"
     ]
    }
   ],
   "source": [
    "print(f\"Skalarni product a in b: {numpy.dot(a, b)}.\")\n"
   ]
  },
  {
   "cell_type": "markdown",
   "metadata": {},
   "source": [
    " "
   ]
  },
  {
   "cell_type": "markdown",
   "metadata": {},
   "source": [
    "Izračunaj kot med vektorjema $\\vec{a}$ in $\\vec{b}$."
   ]
  },
  {
   "cell_type": "code",
   "execution_count": 14,
   "metadata": {},
   "outputs": [
    {
     "name": "stdout",
     "output_type": "stream",
     "text": [
      "Kot med vektorjema a in b je 0.7853981633974484 radianov.\n",
      "To je 45.00000000000001 stopinj.\n"
     ]
    }
   ],
   "source": [
    "from math import pi\n",
    "\n",
    "angle = numpy.arccos(numpy.dot(a, b) / (norm(a)*norm(b)))\n",
    "print(f\"Kot med vektorjema a in b je {angle} radianov.\")\n",
    "print(f\"To je {360*angle/(2*pi)} stopinj.\")"
   ]
  },
  {
   "cell_type": "markdown",
   "metadata": {},
   "source": [
    "# Vektorji v prostoru\n",
    "\n",
    "Podan je trikotnik z oglišči $A(0, 10, 5)$, $B(10, −2, 7)$ in $C(11, 7, 0)$.\n",
    "\n",
    "Izračunaj dolžino težiščnice na $c$."
   ]
  },
  {
   "cell_type": "code",
   "execution_count": 15,
   "metadata": {},
   "outputs": [
    {
     "name": "stdout",
     "output_type": "stream",
     "text": [
      "Dolžina težiščnice na c je 9.0.\n"
     ]
    }
   ],
   "source": [
    "A = (0, 10, 5)\n",
    "B = (10, -2, 7)\n",
    "C = (11, 7, 0)\n",
    "rA = krajevni_vektor(A)\n",
    "rB = krajevni_vektor(B)\n",
    "rC = krajevni_vektor(C)\n",
    "\n",
    "rSC = ((rA + rB)/2) \n",
    "CSC = rSC-C\n",
    "print(f\"Dolžina težiščnice na c je {norm(CSC)}.\")"
   ]
  },
  {
   "cell_type": "markdown",
   "metadata": {},
   "source": [
    " "
   ]
  },
  {
   "cell_type": "markdown",
   "metadata": {},
   "source": [
    "Izračunaj koordinate težišča trikotnika."
   ]
  },
  {
   "cell_type": "code",
   "execution_count": 16,
   "metadata": {},
   "outputs": [
    {
     "name": "stdout",
     "output_type": "stream",
     "text": [
      "Koordinate težišča trikotnika so: [7. 5. 4.].\n"
     ]
    }
   ],
   "source": [
    "rT = 1/3 * (rA + rB + rC)\n",
    "print(f\"Koordinate težišča trikotnika so: {rT}.\")"
   ]
  },
  {
   "cell_type": "code",
   "execution_count": null,
   "metadata": {},
   "outputs": [],
   "source": []
  }
 ],
 "metadata": {
  "kernelspec": {
   "display_name": "Python 3",
   "language": "python",
   "name": "python3"
  },
  "language_info": {
   "codemirror_mode": {
    "name": "ipython",
    "version": 3
   },
   "file_extension": ".py",
   "mimetype": "text/x-python",
   "name": "python",
   "nbconvert_exporter": "python",
   "pygments_lexer": "ipython3",
   "version": "3.7.0+"
  }
 },
 "nbformat": 4,
 "nbformat_minor": 2
}
